{
 "cells": [
  {
   "cell_type": "markdown",
   "metadata": {},
   "source": [
    "![Ummah Tech](imgs/logo.png)"
   ]
  },
  {
   "cell_type": "markdown",
   "metadata": {},
   "source": [
    "# Introduction to Python DS Programming"
   ]
  },
  {
   "cell_type": "markdown",
   "metadata": {},
   "source": [
    "This is the second session of this course. Before jumping into things, let's quickly review what we covered in the first session, as well as the homework assignment problems. "
   ]
  },
  {
   "cell_type": "markdown",
   "metadata": {},
   "source": [
    "# Session 1 Review"
   ]
  },
  {
   "cell_type": "raw",
   "metadata": {},
   "source": [
    "Ask questions!"
   ]
  },
  {
   "cell_type": "markdown",
   "metadata": {},
   "source": [
    "### Setting up a Dev Environment"
   ]
  },
  {
   "cell_type": "markdown",
   "metadata": {},
   "source": [
    "A few people encountered issues with their [Anaconda Python 3.7](https://www.anaconda.com/distribution/) installation. On the Windows side, this is almost certainly due to the installer not defaulting to adding PATH variables.\n",
    "\n",
    "When you type the name of a program, the computer needs to know where / which folder the program is stored at. However it is inconvenient for you to have to keep all those locations memorized, so operating systems get around this by keeping a list of application locations or _paths_ in a global environment variable. By checking the PATHs box during installation, you tell the Anaconda installer to add a copy of it's (python, jupyter, etc.) PATHs to this list of locations to check when you attempt to run a program by simply typing its name.\n",
    "\n",
    "Another student had an issue with the setup due to their being on a ChromeBook. I actually don't recommend using a ChromeBook for doing your general programming (similar to how I wouldn't recommend a cellphone, or iPad, or tablet). It's not impossible—just not my recommendation. If you have another laptop to use, that will make life much easier for you. In lieu of that, please check the linked video from Session 1 on [YouTube](https://www.youtube.com/watch?v=bhM1cCu8uXE) to see how to provision your ChromeBook's for Anaconda, or alternatively, create a [Google Colab](https://colab.research.google.com/) account and create your notebooks from there online."
   ]
  },
  {
   "cell_type": "markdown",
   "metadata": {},
   "source": [
    "### Your Goal(s)"
   ]
  },
  {
   "cell_type": "markdown",
   "metadata": {},
   "source": [
    "- Specific\n",
    "- Measurable,\n",
    "- Achievable\n",
    "- Realistic\n",
    "- Timely"
   ]
  },
  {
   "cell_type": "markdown",
   "metadata": {},
   "source": [
    "### Jupyter Notebooks"
   ]
  },
  {
   "cell_type": "markdown",
   "metadata": {},
   "source": [
    "Type `jupyter notebook` to launch a new instance.\n",
    "\n",
    "You can type notes by creating descriptive markdown cells, and can execute Python in an interactive manner. Here are some very handy shortcuts to make using the notebook easier:\n",
    "\n",
    "- `Shift+Return` will execute the current cell.\n",
    "- Tap `b` while in select mode to append an empty code cell.\n",
    "- Tap `a` while in select mode to prepend an empty code cell.\n",
    "- Tap `y` while in select mode to convert the highlighted cell into a code cell.\n",
    "- Tap `m` while in select mode to convert the highlighted cell into a markup cell.\n",
    "- Tap `r` while in select mode to convert the highlighted cell into a raw cell.\n",
    "- Tap the `return` key to enter into the highlighted cell's edit mode.\n",
    "- Tap the `escape` key to leave the currently highlighted cell's edit mode, returning to select mode.\n",
    "- Use the arrow keys to navigate between cells."
   ]
  },
  {
   "cell_type": "markdown",
   "metadata": {},
   "source": [
    "### Basic Python"
   ]
  },
  {
   "cell_type": "markdown",
   "metadata": {},
   "source": [
    "- `print` statement\n",
    "- three data types\n",
    "- variables\n",
    "- basic arithmetic \n",
    "- interacting with different data types\n",
    "- `input` statement\n",
    "- `int` statement\n",
    "- boolean logic"
   ]
  },
  {
   "cell_type": "markdown",
   "metadata": {},
   "source": [
    "### Homework"
   ]
  },
  {
   "cell_type": "markdown",
   "metadata": {},
   "source": [
    "1. Write a program that asks the user to enter their name, and then says Assalamu Alaykum to them, saying their name.\n",
    "1. Write a program that ask the user the enter how many miles they live from Dallas TX, and then convert their response into kilometers\n",
    "1. Write a program that swaps the contents of two variables. For example if varA=10, and varB=20, then after the program executes, varA should be 20, and varB should be 10.\n",
    "1. Write a program that asks the user for a number and returns the square of the value.\n",
    "1. Write a program to convert fahrenheit to celsius."
   ]
  },
  {
   "cell_type": "code",
   "execution_count": null,
   "metadata": {},
   "outputs": [],
   "source": [
    "name = input('Your name please...')\n",
    "print('Assalamu alaykum ' + name)"
   ]
  },
  {
   "cell_type": "code",
   "execution_count": null,
   "metadata": {},
   "outputs": [],
   "source": [
    "miles = input('how many miles they live from Dallas TX')\n",
    "print(float(miles) * 1.6)"
   ]
  },
  {
   "cell_type": "code",
   "execution_count": null,
   "metadata": {},
   "outputs": [],
   "source": [
    "varA = 10\n",
    "varB = 20\n",
    "\n",
    "varA, varB = varB, varA\n",
    "# temp = varA\n",
    "# varA = varB\n",
    "# varB = temp\n",
    "print(varA, varB)"
   ]
  },
  {
   "cell_type": "code",
   "execution_count": null,
   "metadata": {},
   "outputs": [],
   "source": [
    "miles = input('a number please')\n",
    "print(float(miles) ** 2)"
   ]
  },
  {
   "cell_type": "code",
   "execution_count": null,
   "metadata": {},
   "outputs": [],
   "source": [
    "f = input('Degrees F')\n",
    "print((float(f) - 32) * 5 / 9)"
   ]
  },
  {
   "cell_type": "markdown",
   "metadata": {},
   "source": [
    "# Session 2"
   ]
  },
  {
   "cell_type": "markdown",
   "metadata": {},
   "source": [
    "What's on the plate for this evening:\n",
    "\n",
    "- Order of Operations\n",
    "- Python Modules\n",
    "- All About Lists\n",
    "- Conditional Statements / Branch Logic\n",
    "- Loops\n",
    "- Dictionaries"
   ]
  },
  {
   "cell_type": "markdown",
   "metadata": {},
   "source": [
    "# Order of Operations"
   ]
  },
  {
   "cell_type": "markdown",
   "metadata": {},
   "source": [
    "![Ummah Tech](imgs/pemdas.png)"
   ]
  },
  {
   "cell_type": "code",
   "execution_count": null,
   "metadata": {},
   "outputs": [],
   "source": [
    "3 * 3 - 2 * 4"
   ]
  },
  {
   "cell_type": "code",
   "execution_count": null,
   "metadata": {},
   "outputs": [],
   "source": [
    "6 / 2 * (1 + 2)"
   ]
  },
  {
   "cell_type": "code",
   "execution_count": null,
   "metadata": {},
   "outputs": [],
   "source": [
    "# Exponents\n",
    "5**2"
   ]
  },
  {
   "cell_type": "code",
   "execution_count": null,
   "metadata": {},
   "outputs": [],
   "source": [
    "25**(1/2)"
   ]
  },
  {
   "cell_type": "code",
   "execution_count": null,
   "metadata": {},
   "outputs": [],
   "source": [
    "# Modulus\n",
    "5 % 5"
   ]
  },
  {
   "cell_type": "code",
   "execution_count": null,
   "metadata": {},
   "outputs": [],
   "source": [
    "5 % 4"
   ]
  },
  {
   "cell_type": "markdown",
   "metadata": {},
   "source": [
    "# Modules"
   ]
  },
  {
   "cell_type": "code",
   "execution_count": null,
   "metadata": {},
   "outputs": [],
   "source": [
    "import random"
   ]
  },
  {
   "cell_type": "markdown",
   "metadata": {},
   "source": [
    "- Tab Auto-Complete\n",
    "- Inline Jupyter Help?\n",
    "- [Google the Manual](https://duckduckgo.com/?t=ffab&q=python+random&ia=web)"
   ]
  },
  {
   "cell_type": "code",
   "execution_count": null,
   "metadata": {},
   "outputs": [],
   "source": [
    "??random.random"
   ]
  },
  {
   "cell_type": "code",
   "execution_count": null,
   "metadata": {},
   "outputs": [],
   "source": [
    "random.random()"
   ]
  },
  {
   "cell_type": "code",
   "execution_count": null,
   "metadata": {},
   "outputs": [],
   "source": [
    "random.randint(50,100)"
   ]
  },
  {
   "cell_type": "code",
   "execution_count": null,
   "metadata": {},
   "outputs": [],
   "source": [
    "!pip install numpy"
   ]
  },
  {
   "cell_type": "code",
   "execution_count": null,
   "metadata": {},
   "outputs": [],
   "source": [
    "import numpy as np\n",
    "np.random.random()"
   ]
  },
  {
   "cell_type": "markdown",
   "metadata": {},
   "source": [
    "# Lists"
   ]
  },
  {
   "cell_type": "markdown",
   "metadata": {},
   "source": [
    "![TODO List](imgs/todo.jpg)\n",
    "\n",
    "So far we've talked about 3 of the primitive python data types. There's another data type that can actually store multiple values! It is called the list. To create a new list typed variable, name your variable as you regularly would, then assign `[]` to it:"
   ]
  },
  {
   "cell_type": "code",
   "execution_count": null,
   "metadata": {},
   "outputs": [],
   "source": [
    "mylist = []"
   ]
  },
  {
   "cell_type": "markdown",
   "metadata": {},
   "source": [
    "You can always check the data type of a variable using the `type` function:"
   ]
  },
  {
   "cell_type": "code",
   "execution_count": null,
   "metadata": {},
   "outputs": [],
   "source": [
    "type(mylist)"
   ]
  },
  {
   "cell_type": "code",
   "execution_count": null,
   "metadata": {},
   "outputs": [],
   "source": [
    "type('test')"
   ]
  },
  {
   "cell_type": "code",
   "execution_count": null,
   "metadata": {},
   "outputs": [],
   "source": [
    "type(10.5)"
   ]
  },
  {
   "cell_type": "markdown",
   "metadata": {},
   "source": [
    "If you already know what you want to store in your list, you can populate its contents at the same time you create it:"
   ]
  },
  {
   "cell_type": "code",
   "execution_count": null,
   "metadata": {},
   "outputs": [],
   "source": [
    "mylist = [1,2,3,4,5]\n",
    "print(mylist)"
   ]
  },
  {
   "cell_type": "code",
   "execution_count": null,
   "metadata": {},
   "outputs": [],
   "source": [
    "mylist = [True, 10, 1.1, False, \"Authman\"]\n",
    "print(mylist)"
   ]
  },
  {
   "cell_type": "markdown",
   "metadata": {},
   "source": [
    "You can access the list a value at a time by specifying the position of the element you want to select. Python lists are 0-index based, so you start counting from 0:"
   ]
  },
  {
   "cell_type": "code",
   "execution_count": null,
   "metadata": {},
   "outputs": [],
   "source": [
    "print(mylist[0])"
   ]
  },
  {
   "cell_type": "code",
   "execution_count": null,
   "metadata": {},
   "outputs": [],
   "source": [
    "mylist[1]"
   ]
  },
  {
   "cell_type": "code",
   "execution_count": null,
   "metadata": {},
   "outputs": [],
   "source": [
    "mylist[2]"
   ]
  },
  {
   "cell_type": "code",
   "execution_count": null,
   "metadata": {},
   "outputs": [],
   "source": [
    "mylist[3]"
   ]
  },
  {
   "cell_type": "code",
   "execution_count": null,
   "metadata": {},
   "outputs": [],
   "source": [
    "mylist[4]"
   ]
  },
  {
   "cell_type": "code",
   "execution_count": null,
   "metadata": {},
   "outputs": [],
   "source": [
    "mylist[5]"
   ]
  },
  {
   "cell_type": "markdown",
   "metadata": {},
   "source": [
    "What happens when you try using a negative index to slice a list?"
   ]
  },
  {
   "cell_type": "code",
   "execution_count": null,
   "metadata": {},
   "outputs": [],
   "source": [
    "# TODO: Go ahead and type code below to complete the above instruction:\n",
    "mylist[-2]"
   ]
  },
  {
   "cell_type": "markdown",
   "metadata": {},
   "source": [
    "In addition to _reading_ the value stored at some position within the list, you can always update the list, by changing the value (or eeven data type!) of the value stored at a position by assigning into it:"
   ]
  },
  {
   "cell_type": "code",
   "execution_count": null,
   "metadata": {},
   "outputs": [],
   "source": [
    "mylist[0] = 'New Value'\n",
    "print(mylist)"
   ]
  },
  {
   "cell_type": "markdown",
   "metadata": {},
   "source": [
    "Lastly, you can add additional members to the list and remove existing members from the tail-end of the list using some built-in convenience methods:"
   ]
  },
  {
   "cell_type": "code",
   "execution_count": null,
   "metadata": {},
   "outputs": [],
   "source": [
    "mylist.append('New Item')\n",
    "mylist.append(10)\n",
    "mylist.append(20)\n",
    "print(mylist)"
   ]
  },
  {
   "cell_type": "code",
   "execution_count": null,
   "metadata": {},
   "outputs": [],
   "source": [
    "mylist.pop()"
   ]
  },
  {
   "cell_type": "code",
   "execution_count": null,
   "metadata": {},
   "outputs": [],
   "source": [
    "print(mylist)"
   ]
  },
  {
   "cell_type": "markdown",
   "metadata": {},
   "source": [
    "- Create list that holds your name, age, how many pets you have, and a boolean indicating if you have any siblings\n",
    "- Print out the value from the array that stores your name\n",
    "- Print out the value from the array that stores how many pets you have"
   ]
  },
  {
   "cell_type": "code",
   "execution_count": null,
   "metadata": {},
   "outputs": [],
   "source": [
    "# TODO: Go ahead and type code below to complete the above instruction:\n",
    "newlist = ['Yousef', 18, 0, True]\n",
    "print(newlist[0])\n",
    "print(newlist[-2])"
   ]
  },
  {
   "cell_type": "markdown",
   "metadata": {},
   "source": [
    "You can also select multiple items from a list using the `:` notation. For those of you familiar with math, the value to the left is inclusive and the value on the right is exclusive. That means if you were to type `mylist[0:2]`, the 0th and 1st elements will be selected, but not the 2nd+."
   ]
  },
  {
   "cell_type": "code",
   "execution_count": null,
   "metadata": {},
   "outputs": [],
   "source": [
    "print(mylist)"
   ]
  },
  {
   "cell_type": "code",
   "execution_count": null,
   "metadata": {},
   "outputs": [],
   "source": [
    "print(mylist[0:2])"
   ]
  },
  {
   "cell_type": "code",
   "execution_count": null,
   "metadata": {},
   "outputs": [],
   "source": [
    "print(mylist[:2])"
   ]
  },
  {
   "cell_type": "code",
   "execution_count": null,
   "metadata": {},
   "outputs": [],
   "source": [
    "print(mylist[2:])"
   ]
  },
  {
   "cell_type": "code",
   "execution_count": null,
   "metadata": {},
   "outputs": [],
   "source": [
    "print(mylist[2:3])"
   ]
  },
  {
   "cell_type": "code",
   "execution_count": null,
   "metadata": {},
   "outputs": [],
   "source": [
    "numA = 10\n",
    "numB = 20\n",
    "print(numA, numB)"
   ]
  },
  {
   "cell_type": "code",
   "execution_count": null,
   "metadata": {},
   "outputs": [],
   "source": [
    "mylist.append(numA)\n",
    "mylist.append(numB)\n",
    "print(mylist)"
   ]
  },
  {
   "cell_type": "markdown",
   "metadata": {},
   "source": [
    "Lists can store numbers, strings, and booleans; but they can also store other lists! These are called nested lists. Can anyone think up of a reason why you might need to use a nested list?"
   ]
  },
  {
   "cell_type": "code",
   "execution_count": null,
   "metadata": {},
   "outputs": [],
   "source": [
    "L = ['a', ['bb', ['ccc', 'ddd'], 'ee', 'ff'], 'g', 'h']"
   ]
  },
  {
   "cell_type": "markdown",
   "metadata": {},
   "source": [
    "![Nested List](imgs/nestedlist.png)"
   ]
  },
  {
   "cell_type": "code",
   "execution_count": null,
   "metadata": {},
   "outputs": [],
   "source": [
    "print(L[1])\n",
    "print(L[1][1])\n",
    "print(L[1][1][0])"
   ]
  },
  {
   "cell_type": "markdown",
   "metadata": {},
   "source": [
    "# Syntax and Operations"
   ]
  },
  {
   "cell_type": "markdown",
   "metadata": {},
   "source": [
    "One of the most powerful capabilities built into programming languages is the ability to _branch_, or run a block of code only under certain defined circumstances.\n",
    "\n",
    "Pretend you're following a recipe to make chicken tikka masala. The recipe has been passed down 8-generations, so it's like a family trade secret and of course everything is made from scratch.\n",
    "\n",
    "![O-G Spice Mix](imgs/spicemix.jpg)\n",
    "\n",
    "Fast forward to today, you're probably going to be skipping the step where you have make the masala by mixing together 16 spices because you've already purchased a Shan masala box. In fact, you don't even have the tikka masala box in your pantry, so you just substitute the butter chicken box instead.\n",
    "\n",
    "![Your Mix](imgs/butteerechicken.jpg)\n",
    "\n",
    "Even though you might follow the rest of the recipe verbatim, you made a decision to cut out a portion of it based upon some condition. In your programming, you can also choose to execute code depending on a boolean condition"
   ]
  },
  {
   "cell_type": "code",
   "execution_count": null,
   "metadata": {},
   "outputs": [],
   "source": [
    "if True:\n",
    "    print('something')"
   ]
  },
  {
   "cell_type": "code",
   "execution_count": null,
   "metadata": {},
   "outputs": [],
   "source": [
    "if False:\n",
    "    print('something')"
   ]
  },
  {
   "cell_type": "code",
   "execution_count": null,
   "metadata": {},
   "outputs": [],
   "source": [
    "test = True\n",
    "if test:\n",
    "    print('Test is true')"
   ]
  },
  {
   "cell_type": "code",
   "execution_count": null,
   "metadata": {},
   "outputs": [],
   "source": [
    "numA = 10\n",
    "numB = 20\n",
    "\n",
    "if numA < numB:\n",
    "    print('numA is smaller')\n",
    "    \n",
    "else:\n",
    "    print('numB is smaller')"
   ]
  },
  {
   "cell_type": "code",
   "execution_count": null,
   "metadata": {},
   "outputs": [],
   "source": [
    "numB = input('Enter a number')\n",
    "numB = int(numB)\n",
    "\n",
    "if numA < numB:\n",
    "    print('numA is smaller')\n",
    "    \n",
    "else:\n",
    "    print('numB is smaller')"
   ]
  },
  {
   "cell_type": "markdown",
   "metadata": {},
   "source": [
    "- Write a program to check if the user entered number is positive, negative or 0\n",
    "- Write a program to see if a user entered number is odd or even"
   ]
  },
  {
   "cell_type": "code",
   "execution_count": null,
   "metadata": {},
   "outputs": [],
   "source": [
    "# TODO: Go ahead and type code below to complete the above instruction:\n",
    "numA = int(input('A number please..'))\n",
    "if numA > 0:\n",
    "    print('numA is +')\n",
    "    \n",
    "elif numA < 0:\n",
    "    print('numA is -')\n",
    "    \n",
    "elif numA == 0:\n",
    "    print('numA is 0')"
   ]
  },
  {
   "cell_type": "markdown",
   "metadata": {},
   "source": [
    "# Loops"
   ]
  },
  {
   "cell_type": "markdown",
   "metadata": {},
   "source": [
    "You may want to execute the same line of code many times over. For example, supposed you wanted to display \"You Won\" 20x. One way to do that would be to write that many print statements:\n",
    "\n",
    "```\n",
    "print('You Won!')\n",
    "print('You Won!')\n",
    "print('You Won!')\n",
    "print('You Won!')\n",
    "...\n",
    "```\n",
    "\n",
    "But programmers are lazy people, so the way to get around that is by using loops:\n"
   ]
  },
  {
   "cell_type": "code",
   "execution_count": null,
   "metadata": {},
   "outputs": [],
   "source": [
    "for whatever in range(20):\n",
    "    print('You Won')"
   ]
  },
  {
   "cell_type": "markdown",
   "metadata": {},
   "source": [
    "The variable you named `count` will be incremented by one each iteration of the loop. If you'd like, you can use the value of this variable along with other logic in your loop:"
   ]
  },
  {
   "cell_type": "code",
   "execution_count": null,
   "metadata": {},
   "outputs": [],
   "source": [
    "for count in range(-20, -40, -1):\n",
    "    if count < 10:\n",
    "        print('You Won', count)\n",
    "        \n",
    "    else:\n",
    "        print('You Lost')"
   ]
  },
  {
   "cell_type": "markdown",
   "metadata": {},
   "source": [
    "- Learn more about how to use the range function using the tips we covered in the Modules section."
   ]
  },
  {
   "cell_type": "code",
   "execution_count": null,
   "metadata": {},
   "outputs": [],
   "source": [
    "# TODO: Go ahead and type code below to complete the above instruction:\n"
   ]
  },
  {
   "cell_type": "code",
   "execution_count": null,
   "metadata": {},
   "outputs": [],
   "source": [
    "len(mylist)"
   ]
  },
  {
   "cell_type": "code",
   "execution_count": null,
   "metadata": {},
   "outputs": [],
   "source": [
    "for i in range(len(mylist)):\n",
    "    print(mylist[i])"
   ]
  },
  {
   "cell_type": "code",
   "execution_count": null,
   "metadata": {},
   "outputs": [],
   "source": [
    "# Pref:\n",
    "for myval in mylist:\n",
    "    print(myval)"
   ]
  },
  {
   "cell_type": "code",
   "execution_count": null,
   "metadata": {},
   "outputs": [],
   "source": [
    "for i in range(len(mylist)):\n",
    "    print(i, mylist[i])"
   ]
  },
  {
   "cell_type": "markdown",
   "metadata": {},
   "source": [
    "# Dictionaries"
   ]
  },
  {
   "cell_type": "markdown",
   "metadata": {},
   "source": [
    "Lists are especially handy when you have many of the same type of item and ordering is all that matters. But if you have different types of items, or if ordering isn't your major concern, sometimes it is easier to index into your collection of values using a _name_, similar to how to refer to each other using our names.\n",
    "\n",
    "To do this, you have to create a structure similar to a list, but with named key-value pairs. This structure is called a dictionary. It is up to you to come up with names for each key."
   ]
  },
  {
   "cell_type": "code",
   "execution_count": null,
   "metadata": {},
   "outputs": [],
   "source": [
    "some_var_name"
   ]
  },
  {
   "cell_type": "code",
   "execution_count": null,
   "metadata": {},
   "outputs": [],
   "source": [
    "mydict = {\n",
    "    'name': 'Authman',\n",
    "    'age': 50,\n",
    "    'city': 'Irving',\n",
    "    'has_pets': False,\n",
    "    'has_car': True,\n",
    "    'mylist': [1,2,3,4,True,False],\n",
    "}"
   ]
  },
  {
   "cell_type": "code",
   "execution_count": null,
   "metadata": {},
   "outputs": [],
   "source": [
    "print(mydict['name'])"
   ]
  },
  {
   "cell_type": "code",
   "execution_count": null,
   "metadata": {},
   "outputs": [],
   "source": [
    "mydict['name'] = 'Mohammad'\n",
    "print(mydict)"
   ]
  },
  {
   "cell_type": "markdown",
   "metadata": {},
   "source": [
    "Similar to lists, dictionaries can contain numbers, booleans, strings, lists, and even other dictionaries. Go ahead and create a dictionary that contains a nested dictionary and index into it:"
   ]
  },
  {
   "cell_type": "code",
   "execution_count": null,
   "metadata": {},
   "outputs": [],
   "source": [
    "# TODO: Go ahead and type code below to complete the above instruction:\n"
   ]
  },
  {
   "cell_type": "code",
   "execution_count": null,
   "metadata": {},
   "outputs": [],
   "source": [
    "for key, value in mydict.items():\n",
    "    print(key, value)"
   ]
  },
  {
   "cell_type": "code",
   "execution_count": null,
   "metadata": {},
   "outputs": [],
   "source": [
    "key = 'city'\n",
    "print(mydict[key])"
   ]
  },
  {
   "cell_type": "markdown",
   "metadata": {},
   "source": [
    "# Homework"
   ]
  },
  {
   "cell_type": "markdown",
   "metadata": {},
   "source": [
    "1. Write a program to see if a user entered number is odd or even\n",
    "1. Write a program that generates a random integer and stores it in a variable. Asks the user to guess the number. If they guessed too high, print 'Too High!'. If they guessed to low, print 'Too Low!'. Otherwise print, 'You Got It!'\n",
    "1. Given a list of numbers `mylist = [1,2,10,-5,20,30,-100]`, find the largest number.\n",
    "1. Given a list of numbers `mylist = [1,2,10,-5,20,30,-100]`, compute the sum of the list."
   ]
  },
  {
   "cell_type": "markdown",
   "metadata": {},
   "source": [
    "# Additional Resources"
   ]
  },
  {
   "cell_type": "markdown",
   "metadata": {},
   "source": [
    "- [List Methods](https://docs.python.org/2/tutorial/datastructures.html)\n",
    "- [Dictionary Search](https://duckduckgo.com/?t=q=python+dictionary)\n",
    "- [Conditionals Search](https://duckduckgo.com/?q=python+conditionals)\n",
    "- [Loops](https://www.pythonforbeginners.com/loops/for-while-and-nested-loops-in-python/) - Check out the `break` and `continue` keywords"
   ]
  },
  {
   "cell_type": "code",
   "execution_count": null,
   "metadata": {},
   "outputs": [],
   "source": []
  }
 ],
 "metadata": {
  "kernelspec": {
   "display_name": "Python 3",
   "language": "python",
   "name": "python3"
  },
  "language_info": {
   "codemirror_mode": {
    "name": "ipython",
    "version": 3
   },
   "file_extension": ".py",
   "mimetype": "text/x-python",
   "name": "python",
   "nbconvert_exporter": "python",
   "pygments_lexer": "ipython3",
   "version": "3.7.1"
  }
 },
 "nbformat": 4,
 "nbformat_minor": 2
}
